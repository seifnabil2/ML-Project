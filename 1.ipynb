{
 "cells": [
  {
   "cell_type": "code",
   "execution_count": 26,
   "metadata": {},
   "outputs": [],
   "source": [
    "import numpy as np\n",
    "import pandas as pd\n",
    "from sklearn.model_selection import train_test_split"
   ]
  },
  {
   "cell_type": "code",
   "execution_count": 27,
   "metadata": {},
   "outputs": [],
   "source": [
    "training_data = pd.read_csv('mnist_train.csv')\n",
    "testing_data = pd.read_csv('mnist_test.csv')"
   ]
  },
  {
   "cell_type": "code",
   "execution_count": 35,
   "metadata": {},
   "outputs": [
    {
     "name": "stdout",
     "output_type": "stream",
     "text": [
      "Training Data Shape: (42000, 785)\n",
      "Validation Data Shape: (18000, 785)\n"
     ]
    }
   ],
   "source": [
    "shuffled_training_data = training_data.sample(frac=1, random_state=42).reset_index(drop=True)\n",
    "shuffled_testing_data = testing_data.sample(frac=1, random_state=42).reset_index(drop=True)\n",
    "\n",
    "train_data, validation_data = train_test_split(shuffled_training_data, test_size=0.3, random_state=42)\n",
    "\n",
    "print(\"Training Data Shape:\", train_data.shape)\n",
    "print(\"Validation Data Shape:\", validation_data.shape)"
   ]
  },
  {
   "cell_type": "code",
   "execution_count": 36,
   "metadata": {},
   "outputs": [
    {
     "name": "stdout",
     "output_type": "stream",
     "text": [
      "Features Shape: (42000, 784)\n",
      "Labels Shape: (42000,)\n",
      "Validation Features Shape: (18000, 784)\n",
      "Validation Labels Shape: (18000,)\n",
      "Testing Features Shape: (10000, 784)\n",
      "Testing Labels Shape: (10000,)\n"
     ]
    }
   ],
   "source": [
    "\n",
    "Features = train_data.iloc[:, 1:]  \n",
    "Labels = train_data.iloc[:, 0]      \n",
    "\n",
    "Validation_Features = validation_data.iloc[:, 1:]\n",
    "Validation_Labels = validation_data.iloc[:, 0]\n",
    "\n",
    "Testing_Features = testing_data.iloc[:, 1:]\n",
    "Testing_Labels = testing_data.iloc[:, 0]\n",
    "\n",
    "print(\"Features Shape:\", Features.shape)\n",
    "print(\"Labels Shape:\", Labels.shape)\n",
    "print(\"Validation Features Shape:\", Validation_Features.shape)\n",
    "print(\"Validation Labels Shape:\", Validation_Labels.shape)\n",
    "print(\"Testing Features Shape:\", Testing_Features.shape)\n",
    "print(\"Testing Labels Shape:\", Testing_Labels.shape)"
   ]
  },
  {
   "cell_type": "code",
   "execution_count": 34,
   "metadata": {},
   "outputs": [
    {
     "name": "stdout",
     "output_type": "stream",
     "text": [
      "Normalized Training Features: [0.         0.         0.         0.         0.         0.\n",
      " 0.         0.         0.         0.         0.         0.\n",
      " 0.         0.         0.         0.         0.         0.\n",
      " 0.         0.         0.         0.         0.         0.\n",
      " 0.         0.         0.         0.         0.         0.\n",
      " 0.         0.         0.         0.         0.         0.\n",
      " 0.         0.         0.         0.         0.         0.\n",
      " 0.         0.         0.         0.         0.         0.\n",
      " 0.         0.         0.         0.         0.         0.\n",
      " 0.         0.         0.         0.         0.         0.\n",
      " 0.         0.         0.         0.         0.         0.\n",
      " 0.         0.         0.         0.         0.         0.\n",
      " 0.         0.         0.         0.         0.         0.\n",
      " 0.         0.         0.         0.         0.         0.\n",
      " 0.         0.         0.         0.         0.         0.\n",
      " 0.         0.         0.         0.         0.         0.\n",
      " 0.         0.         0.         0.         0.         0.\n",
      " 0.         0.         0.         0.         0.         0.\n",
      " 0.         0.         0.         0.         0.         0.\n",
      " 0.         0.         0.         0.         0.         0.\n",
      " 0.         0.         0.         0.         0.         0.\n",
      " 0.         0.         0.         0.         0.         0.\n",
      " 0.         0.         0.         0.         0.         0.\n",
      " 0.         0.         0.         0.         0.         0.\n",
      " 0.         0.         0.         0.         0.         0.\n",
      " 0.         0.         0.         0.         0.         0.\n",
      " 0.         0.         0.         0.         0.         0.\n",
      " 0.         0.         0.         0.         0.         0.\n",
      " 0.         0.         0.         0.         0.         0.\n",
      " 0.         0.         0.         0.         0.         0.\n",
      " 0.03529412 0.21960784 0.21960784 0.21960784 0.21960784 0.21960784\n",
      " 0.21960784 0.21960784 0.21960784 0.18823529 0.         0.\n",
      " 0.         0.         0.         0.         0.         0.\n",
      " 0.         0.        ]\n",
      "Normalized Validation Features: [0. 0. 0. 0. 0. 0. 0. 0. 0. 0.]\n",
      "Normalized Testing Features: [0. 0. 0. 0. 0. 0. 0. 0. 0. 0.]\n"
     ]
    }
   ],
   "source": [
    "Normalized_Features = Features / 255.0\n",
    "Normalized_Validation_Features = Validation_Features / 255.0\n",
    "Normalized_Testing_Features = Testing_Features / 255.0\n",
    "\n",
    "\n",
    "\n",
    "\n",
    "print(\"Normalized Training Features:\", Normalized_Features.iloc[0, :200].values)\n",
    "print(\"Normalized Validation Features:\", Normalized_Validation_Features.iloc[0, :10].values)\n",
    "print(\"Normalized Testing Features:\", Normalized_Testing_Features.iloc[0, :10].values)\n",
    "\n"
   ]
  }
 ],
 "metadata": {
  "kernelspec": {
   "display_name": "myenv",
   "language": "python",
   "name": "python3"
  },
  "language_info": {
   "codemirror_mode": {
    "name": "ipython",
    "version": 3
   },
   "file_extension": ".py",
   "mimetype": "text/x-python",
   "name": "python",
   "nbconvert_exporter": "python",
   "pygments_lexer": "ipython3",
   "version": "3.10.13"
  }
 },
 "nbformat": 4,
 "nbformat_minor": 2
}
